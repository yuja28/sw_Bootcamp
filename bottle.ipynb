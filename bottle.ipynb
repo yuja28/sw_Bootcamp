{
  "nbformat": 4,
  "nbformat_minor": 0,
  "metadata": {
    "colab": {
      "provenance": [],
      "gpuType": "T4",
      "mount_file_id": "1OPsB_UEvueawFIFpIjZ5u1ZySqxAOvV8",
      "authorship_tag": "ABX9TyPNIrEYYfo2XhIEMV1ZlebO",
      "include_colab_link": true
    },
    "kernelspec": {
      "name": "python3",
      "display_name": "Python 3"
    },
    "language_info": {
      "name": "python"
    },
    "accelerator": "GPU"
  },
  "cells": [
    {
      "cell_type": "markdown",
      "metadata": {
        "id": "view-in-github",
        "colab_type": "text"
      },
      "source": [
        "<a href=\"https://colab.research.google.com/github/yuja28/sw_Bootcamp/blob/main/bottle.ipynb\" target=\"_parent\"><img src=\"https://colab.research.google.com/assets/colab-badge.svg\" alt=\"Open In Colab\"/></a>"
      ]
    },
    {
      "cell_type": "code",
      "source": [
        "import tensorflow as tf\n",
        "import os\n",
        "import cv2\n",
        "import numpy as np\n",
        "from sklearn.model_selection import train_test_split\n",
        "\n",
        "from tensorflow.keras.models import Sequential\n",
        "from tensorflow.keras.layers import Dense, Conv2D, MaxPooling2D, Flatten, Dropout\n",
        "from tensorflow.keras.losses import CategoricalCrossentropy\n",
        "from tensorflow.keras.preprocessing.image import ImageDataGenerator\n",
        "#from tensorflow.keras.losses import SparseCategoricalCrossentropy\n"
      ],
      "metadata": {
        "id": "boqUpkW22Yas"
      },
      "execution_count": 79,
      "outputs": []
    },
    {
      "cell_type": "code",
      "execution_count": 81,
      "metadata": {
        "id": "t6f3nwET1Ki5"
      },
      "outputs": [],
      "source": [
        "import os\n",
        "import cv2\n",
        "import numpy as np\n",
        "from sklearn.model_selection import train_test_split\n",
        "\n",
        "# MVTEC AD 데이터셋 경로 설정\n",
        "dataset = '/content/drive/MyDrive/mvtecv/bottle'\n",
        "\n",
        "# 데이터와 라벨을 저장할 리스트 초기화\n",
        "train_data = []\n",
        "train_labels = []\n",
        "test_data = []\n",
        "test_labels = []\n",
        "\n",
        "\n",
        "# 'test' 폴더와 'train' 폴더의 'good' 하위 폴더 순회\n",
        "for folder_name in ['test', 'train']:\n",
        "    good_folder = os.path.join(dataset, folder_name, 'good')\n",
        "    if os.path.isdir(good_folder):\n",
        "        # 정상 라벨을 0으로 설정\n",
        "        label = 0 if folder_name == 'train' else 1\n",
        "\n",
        "        # 'good' 폴더 순회\n",
        "        for img_name in os.listdir(good_folder):\n",
        "            img_path = os.path.join(good_folder, img_name)\n",
        "\n",
        "            # 이미지 파일 존재 확인\n",
        "            if not os.path.isfile(img_path):\n",
        "                continue\n",
        "\n",
        "            # 이미지 불러오기\n",
        "            image = cv2.imread(img_path)\n",
        "\n",
        "            # 이미지가 성공적으로 불러와진 경우에만 크기 조정\n",
        "            if image is not None:\n",
        "                # 이미지 크기 조정 (예시: 224x224 크기로 조정)\n",
        "                image = cv2.resize(image, (224, 224))\n",
        "                image = image.astype('float32')\n",
        "                image /= 255.0\n",
        "\n",
        "                # 데이터와 라벨을 리스트에 추가\n",
        "                if folder_name == 'train':\n",
        "                    train_data.append(image)\n",
        "                    train_labels.append(label)\n",
        "                else:\n",
        "                    test_data.append(image)\n",
        "                    test_labels.append(label)\n",
        "\n"
      ]
    },
    {
      "cell_type": "code",
      "source": [
        "\n",
        " #리스트를 numpy 배열로 변환\n",
        "train_data = np.array(train_data)\n",
        "train_labels = np.array(train_labels)\n",
        "test_data = np.array(test_data)\n",
        "test_labels = np.array(test_labels)\n"
      ],
      "metadata": {
        "id": "Zgac4rLcOcId"
      },
      "execution_count": 82,
      "outputs": []
    },
    {
      "cell_type": "code",
      "source": [],
      "metadata": {
        "id": "J5rgIEHPRR1R"
      },
      "execution_count": null,
      "outputs": []
    },
    {
      "cell_type": "code",
      "source": [
        "\n",
        "# CNN 모델 정의\n",
        "model = Sequential([\n",
        "    Conv2D(32, kernel_size=(3, 3), activation='relu', input_shape=(224, 224, 3)),\n",
        "    MaxPooling2D(pool_size=(2, 2)),\n",
        "    Conv2D(64, kernel_size=(3, 3), activation='relu'),\n",
        "    MaxPooling2D(pool_size=(2, 2)),\n",
        "    Flatten(),\n",
        "    Dense(128, activation='relu'),\n",
        "    Dropout(0.5),\n",
        "    Dense(1, activation='sigmoid')\n",
        "])\n",
        "\n",
        "# 모델 컴파일\n",
        "model.compile(optimizer='adam',loss='binary_crossentropy', metrics=['accuracy'])\n",
        "\n",
        "# 모델 학습\n",
        "model.fit(train_data, train_labels, batch_size=32, epochs=10, validation_data=(test_data, test_labels))\n",
        "\n",
        "# 학습된 모델 저장\n",
        "model.save('bottle_model.h5')"
      ],
      "metadata": {
        "colab": {
          "base_uri": "https://localhost:8080/"
        },
        "id": "AZFg_y6hLDVP",
        "outputId": "7d45dfc2-c857-41c5-d95f-6309e18a0e34"
      },
      "execution_count": 83,
      "outputs": [
        {
          "output_type": "stream",
          "name": "stdout",
          "text": [
            "Epoch 1/10\n",
            "7/7 [==============================] - 2s 81ms/step - loss: 0.0924 - accuracy: 0.9761 - val_loss: 264.7632 - val_accuracy: 0.0000e+00\n",
            "Epoch 2/10\n",
            "7/7 [==============================] - 0s 47ms/step - loss: 0.0000e+00 - accuracy: 1.0000 - val_loss: 411.6369 - val_accuracy: 0.0000e+00\n",
            "Epoch 3/10\n",
            "7/7 [==============================] - 0s 47ms/step - loss: 0.0000e+00 - accuracy: 1.0000 - val_loss: 496.2059 - val_accuracy: 0.0000e+00\n",
            "Epoch 4/10\n",
            "7/7 [==============================] - 0s 47ms/step - loss: 0.0000e+00 - accuracy: 1.0000 - val_loss: 544.0667 - val_accuracy: 0.0000e+00\n",
            "Epoch 5/10\n",
            "7/7 [==============================] - 0s 48ms/step - loss: 0.0000e+00 - accuracy: 1.0000 - val_loss: 570.3129 - val_accuracy: 0.0000e+00\n",
            "Epoch 6/10\n",
            "7/7 [==============================] - 0s 48ms/step - loss: 0.0000e+00 - accuracy: 1.0000 - val_loss: 584.3721 - val_accuracy: 0.0000e+00\n",
            "Epoch 7/10\n",
            "7/7 [==============================] - 0s 47ms/step - loss: 0.0000e+00 - accuracy: 1.0000 - val_loss: 591.7110 - val_accuracy: 0.0000e+00\n",
            "Epoch 8/10\n",
            "7/7 [==============================] - 0s 47ms/step - loss: 0.0000e+00 - accuracy: 1.0000 - val_loss: 595.4936 - val_accuracy: 0.0000e+00\n",
            "Epoch 9/10\n",
            "7/7 [==============================] - 0s 47ms/step - loss: 0.0000e+00 - accuracy: 1.0000 - val_loss: 597.4249 - val_accuracy: 0.0000e+00\n",
            "Epoch 10/10\n",
            "7/7 [==============================] - 0s 48ms/step - loss: 0.0000e+00 - accuracy: 1.0000 - val_loss: 598.4037 - val_accuracy: 0.0000e+00\n"
          ]
        }
      ]
    },
    {
      "cell_type": "code",
      "source": [
        "\n",
        "# 데이터셋 전처리 과정 완료 후 판별\n",
        "predictions = model.predict(test_data)\n",
        "\n",
        "# 판별 결과 출력\n",
        "for i in range(len(predictions)):\n",
        "    if predictions[i] >= 0.5:\n",
        "        print(f'이미지 {i + 1}: 불량 병')\n",
        "    else:\n",
        "        print(f'이미지 {i + 1}: 정상 병')"
      ],
      "metadata": {
        "colab": {
          "base_uri": "https://localhost:8080/"
        },
        "id": "IT8oe6hQ2Xwj",
        "outputId": "0504f60d-0dd3-44b6-895c-be071b6be794"
      },
      "execution_count": 84,
      "outputs": [
        {
          "output_type": "stream",
          "name": "stdout",
          "text": [
            "1/1 [==============================] - 0s 72ms/step\n",
            "이미지 1: 정상 병\n",
            "이미지 2: 정상 병\n",
            "이미지 3: 정상 병\n",
            "이미지 4: 정상 병\n",
            "이미지 5: 정상 병\n",
            "이미지 6: 정상 병\n",
            "이미지 7: 정상 병\n",
            "이미지 8: 정상 병\n",
            "이미지 9: 정상 병\n",
            "이미지 10: 정상 병\n",
            "이미지 11: 정상 병\n",
            "이미지 12: 정상 병\n",
            "이미지 13: 정상 병\n",
            "이미지 14: 정상 병\n",
            "이미지 15: 정상 병\n",
            "이미지 16: 정상 병\n",
            "이미지 17: 정상 병\n",
            "이미지 18: 정상 병\n",
            "이미지 19: 정상 병\n",
            "이미지 20: 정상 병\n"
          ]
        }
      ]
    }
  ]
}