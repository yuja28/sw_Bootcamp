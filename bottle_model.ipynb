{
  "nbformat": 4,
  "nbformat_minor": 0,
  "metadata": {
    "colab": {
      "provenance": [],
      "gpuType": "T4",
      "mount_file_id": "1EGjpNceyB5LkLGUwn9Ai9MT3FdhAXHR2",
      "authorship_tag": "ABX9TyMASvgsS4V+/dhrhdOiPkQS",
      "include_colab_link": true
    },
    "kernelspec": {
      "name": "python3",
      "display_name": "Python 3"
    },
    "language_info": {
      "name": "python"
    },
    "accelerator": "GPU"
  },
  "cells": [
    {
      "cell_type": "markdown",
      "metadata": {
        "id": "view-in-github",
        "colab_type": "text"
      },
      "source": [
        "<a href=\"https://colab.research.google.com/github/yuja28/sw_Bootcamp/blob/main/bottle_model.ipynb\" target=\"_parent\"><img src=\"https://colab.research.google.com/assets/colab-badge.svg\" alt=\"Open In Colab\"/></a>"
      ]
    },
    {
      "cell_type": "code",
      "execution_count": 1,
      "metadata": {
        "id": "7va44a_yYz_e"
      },
      "outputs": [],
      "source": [
        "import os\n",
        "import numpy as np\n",
        "import tensorflow as tf\n",
        "from tensorflow.keras.preprocessing.image import ImageDataGenerator"
      ]
    },
    {
      "cell_type": "code",
      "source": [
        "# 데이터셋 경로 설정\n",
        "train_data_dir = '/content/drive/MyDrive/mvtecv/bottle/train'\n",
        "test_data_dir = '/content/drive/MyDrive/mvtecv/bottle/test'\n",
        "\n",
        "# 이미지 리사이징을 위한 크기 설정\n",
        "image_height, image_width = 224, 224\n",
        "\n",
        "\n",
        "# 데이터셋 전처리를 위한 ImageDataGenerator 설정\n",
        "train_datagen = ImageDataGenerator(rescale=1./255)  # 훈련 데이터 정규화\n",
        "test_datagen = ImageDataGenerator(rescale=1./255)   # 테스트 데이터 정규화\n",
        "\n",
        "\n",
        "# 훈련 데이터의 'good' 카테고리 경로 설정\n",
        "train_good_data_dir = os.path.join(train_data_dir, 'good')\n",
        "\n",
        "# 훈련 데이터의 'good' 카테고리 이미지 로드\n",
        "train_good_images = [os.path.join(train_good_data_dir, img) for img in os.listdir(train_good_data_dir)]\n",
        "\n",
        "# 훈련 데이터의 'good' 카테고리 레이블 지정\n",
        "train_good_labels = np.zeros(len(train_good_images))  # 정상 병태의 레이블은 0으로 지정\n",
        "\n"
      ],
      "metadata": {
        "id": "JXczR7ZIhJr2"
      },
      "execution_count": 2,
      "outputs": []
    },
    {
      "cell_type": "code",
      "source": [
        "# 테스트 데이터의 이상 카테고리 이미지 로드 (broken_small + contamination)\n",
        "test_anomaly_data_dirs = [os.path.join(test_data_dir, 'broken_small'), os.path.join(test_data_dir, 'contamination')]\n",
        "test_anomaly_images = []\n",
        "for anomaly_data_dir in test_anomaly_data_dirs:\n",
        "    anomaly_images = [os.path.join(anomaly_data_dir, img) for img in os.listdir(anomaly_data_dir)]\n",
        "    test_anomaly_images.extend(anomaly_images)\n",
        "\n",
        "# 테스트 데이터의 이상 카테고리 레이블 지정 (이상은 1로 지정)\n",
        "test_anomaly_labels = np.ones(len(test_anomaly_images))\n",
        "\n",
        "# 테스트 데이터의 'good' 카테고리 경로 설정\n",
        "test_good_data_dir = os.path.join(test_data_dir, 'good')\n",
        "\n",
        "# 테스트 데이터의 'good' 카테고리 이미지 로드\n",
        "test_good_images = [os.path.join(test_good_data_dir, img) for img in os.listdir(test_good_data_dir)]\n",
        "\n",
        "# 테스트 데이터의 'good' 카테고리 레이블 지정\n",
        "test_good_labels = np.zeros(len(test_good_images))  # 정상 병태의 레이블은 0으로 지정"
      ],
      "metadata": {
        "id": "-AwxqTTEiqpa"
      },
      "execution_count": 3,
      "outputs": []
    },
    {
      "cell_type": "code",
      "source": [
        "# 훈련 데이터와 테스트 데이터의 이상 카테고리 이미지 및 레이블을 합쳐서 최종 데이터 생성\n",
        "train_images = train_good_images\n",
        "train_labels = train_good_labels\n",
        "\n",
        "test_images = test_good_images + test_anomaly_images\n",
        "test_labels = np.concatenate([test_good_labels, test_anomaly_labels])\n",
        "\n",
        "# 데이터를 배열로 변환\n",
        "train_images = np.array(train_images)\n",
        "test_images = np.array(test_images)\n",
        "\n",
        "# 데이터 전처리를 위해 데이터셋 생성\n",
        "#학습데이터\n",
        "train_generator = train_datagen.flow_from_directory(\n",
        "    train_data_dir,\n",
        "    target_size=(image_height, image_width),\n",
        "    batch_size=32,\n",
        "    class_mode='binary'\n",
        ")\n",
        "#검증데이터\n",
        "test_generator = test_datagen.flow_from_directory(\n",
        "    test_data_dir,\n",
        "    target_size=(image_height, image_width),\n",
        "    batch_size=32,\n",
        "    class_mode='binary'\n",
        ")"
      ],
      "metadata": {
        "colab": {
          "base_uri": "https://localhost:8080/"
        },
        "id": "dO0ReYGgiuSd",
        "outputId": "d015a3f3-6b75-48e4-a74a-8590153e1417"
      },
      "execution_count": 4,
      "outputs": [
        {
          "output_type": "stream",
          "name": "stdout",
          "text": [
            "Found 209 images belonging to 1 classes.\n",
            "Found 83 images belonging to 4 classes.\n"
          ]
        }
      ]
    },
    {
      "cell_type": "code",
      "source": [
        "from tensorflow.keras.models import Sequential\n",
        "from tensorflow.keras.layers import Conv2D, MaxPooling2D, Flatten, Dense, Dropout\n",
        "from sklearn.model_selection import train_test_split\n",
        "\n",
        "# 학습용 데이터와 검증용 데이터로 분리\n",
        "train_images, val_images, train_labels, val_labels = train_test_split(train_images, train_labels, test_size=0.2, random_state=42)\n",
        "#CNN 모델 정의\n",
        "model = Sequential([\n",
        "    Conv2D(32, kernel_size=(3, 3), activation='relu', input_shape=(224, 224, 3)),\n",
        "    MaxPooling2D(pool_size=(2, 2)),\n",
        "    Conv2D(64, kernel_size=(3, 3), activation='relu'),\n",
        "    MaxPooling2D(pool_size=(2, 2)),\n",
        "    Conv2D(128, kernel_size=(3, 3), activation='relu'),\n",
        "    MaxPooling2D(pool_size=(2, 2)),\n",
        "    Conv2D(256, kernel_size=(3, 3), activation='relu'),\n",
        "    MaxPooling2D(pool_size=(2, 2)),\n",
        "    Flatten(),\n",
        "    Dense(512, activation='relu'),\n",
        "    Dropout(0.5),\n",
        "    Dense(256, activation='relu'),\n",
        "    Dropout(0.5),\n",
        "    Dense(1, activation='sigmoid')\n",
        "])\n",
        "\n",
        "# 모델 컴파일\n",
        "model.compile(optimizer='adam', loss='binary_crossentropy', metrics=['accuracy'])\n",
        "\n",
        "# 모델 구조 요약 출력\n",
        "model.summary()\n",
        "\n",
        "# 모델 학습\n",
        "history = model.fit(\n",
        "    train_generator,\n",
        "    batch_size = 32,\n",
        "    epochs = 10,\n",
        "    validation_data=test_generator\n",
        ")"
      ],
      "metadata": {
        "colab": {
          "base_uri": "https://localhost:8080/"
        },
        "id": "73r_dschj87i",
        "outputId": "fa7f24b9-ba2b-4ad5-baa7-7569f4cfbb82"
      },
      "execution_count": 5,
      "outputs": [
        {
          "output_type": "stream",
          "name": "stdout",
          "text": [
            "Model: \"sequential\"\n",
            "_________________________________________________________________\n",
            " Layer (type)                Output Shape              Param #   \n",
            "=================================================================\n",
            " conv2d (Conv2D)             (None, 222, 222, 32)      896       \n",
            "                                                                 \n",
            " max_pooling2d (MaxPooling2D  (None, 111, 111, 32)     0         \n",
            " )                                                               \n",
            "                                                                 \n",
            " conv2d_1 (Conv2D)           (None, 109, 109, 64)      18496     \n",
            "                                                                 \n",
            " max_pooling2d_1 (MaxPooling  (None, 54, 54, 64)       0         \n",
            " 2D)                                                             \n",
            "                                                                 \n",
            " conv2d_2 (Conv2D)           (None, 52, 52, 128)       73856     \n",
            "                                                                 \n",
            " max_pooling2d_2 (MaxPooling  (None, 26, 26, 128)      0         \n",
            " 2D)                                                             \n",
            "                                                                 \n",
            " conv2d_3 (Conv2D)           (None, 24, 24, 256)       295168    \n",
            "                                                                 \n",
            " max_pooling2d_3 (MaxPooling  (None, 12, 12, 256)      0         \n",
            " 2D)                                                             \n",
            "                                                                 \n",
            " flatten (Flatten)           (None, 36864)             0         \n",
            "                                                                 \n",
            " dense (Dense)               (None, 512)               18874880  \n",
            "                                                                 \n",
            " dropout (Dropout)           (None, 512)               0         \n",
            "                                                                 \n",
            " dense_1 (Dense)             (None, 256)               131328    \n",
            "                                                                 \n",
            " dropout_1 (Dropout)         (None, 256)               0         \n",
            "                                                                 \n",
            " dense_2 (Dense)             (None, 1)                 257       \n",
            "                                                                 \n",
            "=================================================================\n",
            "Total params: 19,394,881\n",
            "Trainable params: 19,394,881\n",
            "Non-trainable params: 0\n",
            "_________________________________________________________________\n",
            "Epoch 1/10\n",
            "7/7 [==============================] - 41s 5s/step - loss: 0.1271 - accuracy: 0.8708 - val_loss: 320.5375 - val_accuracy: 0.2410\n",
            "Epoch 2/10\n",
            "7/7 [==============================] - 10s 1s/step - loss: 0.0000e+00 - accuracy: 1.0000 - val_loss: 1108.1794 - val_accuracy: 0.2410\n",
            "Epoch 3/10\n",
            "7/7 [==============================] - 11s 2s/step - loss: 0.0000e+00 - accuracy: 1.0000 - val_loss: 1870.6896 - val_accuracy: 0.2410\n",
            "Epoch 4/10\n",
            "7/7 [==============================] - 9s 1s/step - loss: 0.0000e+00 - accuracy: 1.0000 - val_loss: 2409.6985 - val_accuracy: 0.2410\n",
            "Epoch 5/10\n",
            "7/7 [==============================] - 10s 1s/step - loss: 0.0000e+00 - accuracy: 1.0000 - val_loss: 2738.0120 - val_accuracy: 0.2410\n",
            "Epoch 6/10\n",
            "7/7 [==============================] - 10s 1s/step - loss: 0.0000e+00 - accuracy: 1.0000 - val_loss: 2922.7910 - val_accuracy: 0.2410\n",
            "Epoch 7/10\n",
            "7/7 [==============================] - 8s 1s/step - loss: 0.0000e+00 - accuracy: 1.0000 - val_loss: 3022.1880 - val_accuracy: 0.2410\n",
            "Epoch 8/10\n",
            "7/7 [==============================] - 10s 1s/step - loss: 0.0000e+00 - accuracy: 1.0000 - val_loss: 3074.1985 - val_accuracy: 0.2410\n",
            "Epoch 9/10\n",
            "7/7 [==============================] - 9s 1s/step - loss: 0.0000e+00 - accuracy: 1.0000 - val_loss: 3100.9546 - val_accuracy: 0.2410\n",
            "Epoch 10/10\n",
            "7/7 [==============================] - 8s 1s/step - loss: 0.0000e+00 - accuracy: 1.0000 - val_loss: 3114.5674 - val_accuracy: 0.2410\n"
          ]
        }
      ]
    },
    {
      "cell_type": "code",
      "source": [],
      "metadata": {
        "id": "gfZA5jzpwffN"
      },
      "execution_count": 5,
      "outputs": []
    }
  ]
}